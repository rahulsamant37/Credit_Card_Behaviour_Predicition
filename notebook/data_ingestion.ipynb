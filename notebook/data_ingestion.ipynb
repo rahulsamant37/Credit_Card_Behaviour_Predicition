{
 "cells": [
  {
   "cell_type": "code",
   "execution_count": 1,
   "metadata": {},
   "outputs": [
    {
     "data": {
      "text/plain": [
       "'/workspaces/Credit_Card_Behaviour_Predicition/notebook'"
      ]
     },
     "execution_count": 1,
     "metadata": {},
     "output_type": "execute_result"
    }
   ],
   "source": [
    "%pwd"
   ]
  },
  {
   "cell_type": "code",
   "execution_count": 2,
   "metadata": {},
   "outputs": [
    {
     "data": {
      "text/plain": [
       "'/workspaces/Credit_Card_Behaviour_Predicition'"
      ]
     },
     "execution_count": 2,
     "metadata": {},
     "output_type": "execute_result"
    }
   ],
   "source": [
    "import os\n",
    "os.chdir('../')\n",
    "%pwd"
   ]
  },
  {
   "cell_type": "code",
   "execution_count": 24,
   "metadata": {},
   "outputs": [],
   "source": [
    "from dataclasses import dataclass\n",
    "from pathlib import Path\n",
    "from typing import List\n",
    "\n",
    "@dataclass\n",
    "class DataIngestionConfig:\n",
    "    root_dir: Path\n",
    "    source_URL: List[str]\n",
    "    local_data_file: Path\n",
    "    csv_dir: List[Path]"
   ]
  },
  {
   "cell_type": "code",
   "execution_count": 5,
   "metadata": {},
   "outputs": [],
   "source": [
    "from src.constants import *\n",
    "from src.utils.common import read_yaml, create_directories"
   ]
  },
  {
   "cell_type": "code",
   "execution_count": 25,
   "metadata": {},
   "outputs": [],
   "source": [
    "class ConfigurationManager:\n",
    "    def __init__(self,\n",
    "                 config_filepath=CONFIG_FILE_PATH,\n",
    "                 params_filepath=PARAMS_FILE_PATH,\n",
    "                 schema_filepath=SCHEMA_FILE_PATH):\n",
    "        self.config = read_yaml(config_filepath)\n",
    "        self.params = read_yaml(params_filepath)\n",
    "        self.schema = read_yaml(schema_filepath)\n",
    "\n",
    "        create_directories([Path(self.config.artifacts_root)])\n",
    "\n",
    "    def get_data_ingestion_config(self) -> DataIngestionConfig:\n",
    "        config = self.config.data_ingestion\n",
    "        create_directories([Path(config.root_dir)])\n",
    "\n",
    "        data_ingestion_config = DataIngestionConfig(\n",
    "            root_dir=Path(config.root_dir),\n",
    "            source_URL=config.source_URL,\n",
    "            local_data_file=Path(config.local_data_file),\n",
    "            csv_dir=[Path(dir_) for dir_ in config.csv_dir]\n",
    "        )\n",
    "        return data_ingestion_config"
   ]
  },
  {
   "cell_type": "code",
   "execution_count": 28,
   "metadata": {},
   "outputs": [],
   "source": [
    "import gdown\n",
    "from pathlib import Path\n",
    "from src import logger"
   ]
  },
  {
   "cell_type": "code",
   "execution_count": 39,
   "metadata": {},
   "outputs": [],
   "source": [
    "class DataIngestion:\n",
    "    def __init__(self, config: DataIngestionConfig):\n",
    "        self.config = config\n",
    "\n",
    "    def download_files(self):\n",
    "        self.config.local_data_file.mkdir(parents=True, exist_ok=True)\n",
    "\n",
    "        for csv_dir in self.config.csv_dir:\n",
    "            Path(csv_dir).mkdir(parents=True, exist_ok=True)\n",
    "\n",
    "        for i, url in enumerate(self.config.source_URL):\n",
    "            try:\n",
    "\n",
    "                file_id = self.extract_file_id(url)\n",
    "                if file_id:\n",
    "                    direct_url = f\"https://drive.google.com/uc?id={file_id}\"\n",
    "                    output_dir = self.config.csv_dir[i]\n",
    "                    output = Path(output_dir) / f'{file_id}.csv'\n",
    "                    logger.info(f\"Downloading file from {direct_url} to {output}\")\n",
    "                    gdown.download(direct_url, str(output), quiet=False)\n",
    "                else:\n",
    "                    logger.error(f\"Failed to extract file ID from URL: {url}\")\n",
    "            except Exception as e:\n",
    "                logger.error(f\"Failed to download {url}: {e}\")\n",
    "\n",
    "    def extract_file_id(self, url: str) -> str:\n",
    "        \"\"\"Extract file ID from Google Drive URL.\"\"\"\n",
    "\n",
    "        if 'drive.google.com' in url:\n",
    "            try:\n",
    "                file_id = url.split('d/')[1].split('/')[0]\n",
    "                return file_id\n",
    "            except IndexError:\n",
    "                return None\n",
    "        return None"
   ]
  },
  {
   "cell_type": "code",
   "execution_count": 40,
   "metadata": {},
   "outputs": [
    {
     "name": "stdout",
     "output_type": "stream",
     "text": [
      "[2025-01-12 04:44:48,961: INFO: common: yaml file: config/config.yaml loaded successfully]\n",
      "[2025-01-12 04:44:48,962: INFO: common: yaml file: params.yaml loaded successfully]\n",
      "[2025-01-12 04:44:48,963: INFO: common: yaml file: schema.yaml loaded successfully]\n",
      "[2025-01-12 04:44:48,963: INFO: common: created directory at: artifacts]\n",
      "[2025-01-12 04:44:48,964: INFO: common: created directory at: artifacts/data_ingestion]\n",
      "[2025-01-12 04:44:48,966: INFO: 3005931499: Downloading file from https://drive.google.com/uc?id=1nZEHX3_xK0gUYiDCJoJ3CecARvIrQDlF to artifacts/data_ingestion/validation/1nZEHX3_xK0gUYiDCJoJ3CecARvIrQDlF.csv]\n"
     ]
    },
    {
     "name": "stderr",
     "output_type": "stream",
     "text": [
      "Downloading...\n",
      "From (original): https://drive.google.com/uc?id=1nZEHX3_xK0gUYiDCJoJ3CecARvIrQDlF\n",
      "From (redirected): https://drive.google.com/uc?id=1nZEHX3_xK0gUYiDCJoJ3CecARvIrQDlF&confirm=t&uuid=bb77739b-1e9e-4ad0-822a-a0978468ed76\n",
      "To: /workspaces/Credit_Card_Behaviour_Predicition/artifacts/data_ingestion/validation/1nZEHX3_xK0gUYiDCJoJ3CecARvIrQDlF.csv\n",
      "100%|██████████| 127M/127M [00:03<00:00, 34.4MB/s] "
     ]
    },
    {
     "name": "stdout",
     "output_type": "stream",
     "text": [
      "[2025-01-12 04:44:57,204: INFO: 3005931499: Downloading file from https://drive.google.com/uc?id=1xo0d7jACK7yxmMpGA-PnPLLRxv5aLuxI to artifacts/data_ingestion/raw/1xo0d7jACK7yxmMpGA-PnPLLRxv5aLuxI.csv]\n"
     ]
    },
    {
     "name": "stderr",
     "output_type": "stream",
     "text": [
      "\n",
      "Downloading...\n",
      "From (original): https://drive.google.com/uc?id=1xo0d7jACK7yxmMpGA-PnPLLRxv5aLuxI\n",
      "From (redirected): https://drive.google.com/uc?id=1xo0d7jACK7yxmMpGA-PnPLLRxv5aLuxI&confirm=t&uuid=d75c553d-5ae9-42f4-b745-c64870fd40a4\n",
      "To: /workspaces/Credit_Card_Behaviour_Predicition/artifacts/data_ingestion/raw/1xo0d7jACK7yxmMpGA-PnPLLRxv5aLuxI.csv\n",
      "100%|██████████| 293M/293M [00:05<00:00, 52.5MB/s] \n"
     ]
    }
   ],
   "source": [
    "try:\n",
    "    config = ConfigurationManager()\n",
    "    data_ingestion_config = config.get_data_ingestion_config()\n",
    "    data_ingestion = DataIngestion(config=data_ingestion_config)\n",
    "    data_ingestion.download_files()\n",
    "except Exception as e:\n",
    "    raise e"
   ]
  },
  {
   "cell_type": "code",
   "execution_count": null,
   "metadata": {},
   "outputs": [],
   "source": []
  }
 ],
 "metadata": {
  "kernelspec": {
   "display_name": "Python 3",
   "language": "python",
   "name": "python3"
  },
  "language_info": {
   "codemirror_mode": {
    "name": "ipython",
    "version": 3
   },
   "file_extension": ".py",
   "mimetype": "text/x-python",
   "name": "python",
   "nbconvert_exporter": "python",
   "pygments_lexer": "ipython3",
   "version": "3.12.1"
  }
 },
 "nbformat": 4,
 "nbformat_minor": 2
}
