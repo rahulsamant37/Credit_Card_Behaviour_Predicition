{
 "cells": [
  {
   "cell_type": "code",
   "execution_count": 1,
   "metadata": {},
   "outputs": [
    {
     "data": {
      "text/plain": [
       "'/home/csio/rahul/Credit_Card_Behaviour_Predicition/notebook'"
      ]
     },
     "execution_count": 1,
     "metadata": {},
     "output_type": "execute_result"
    }
   ],
   "source": [
    "%pwd"
   ]
  },
  {
   "cell_type": "code",
   "execution_count": 2,
   "metadata": {},
   "outputs": [
    {
     "data": {
      "text/plain": [
       "'/home/csio/rahul/Credit_Card_Behaviour_Predicition'"
      ]
     },
     "execution_count": 2,
     "metadata": {},
     "output_type": "execute_result"
    }
   ],
   "source": [
    "import os\n",
    "os.chdir('../')\n",
    "%pwd"
   ]
  },
  {
   "cell_type": "code",
   "execution_count": 3,
   "metadata": {},
   "outputs": [],
   "source": [
    "from dataclasses import dataclass\n",
    "from pathlib import Path\n",
    "\n",
    "@dataclass\n",
    "class DataTransformationConfig:\n",
    "    root_dir:Path\n",
    "    data_path: Path"
   ]
  },
  {
   "cell_type": "code",
   "execution_count": 4,
   "metadata": {},
   "outputs": [],
   "source": [
    "from src.constants import *\n",
    "from src.utils.common import read_yaml, create_directories"
   ]
  },
  {
   "cell_type": "code",
   "execution_count": 5,
   "metadata": {},
   "outputs": [],
   "source": [
    "class ConfigurationManager:\n",
    "    def __init__(\n",
    "        self,\n",
    "        config_filepath = CONFIG_FILE_PATH,\n",
    "        params_filepath = PARAMS_FILE_PATH,\n",
    "        schema_filepath = SCHEMA_FILE_PATH):\n",
    "\n",
    "        self.config = read_yaml(config_filepath)\n",
    "        self.params = read_yaml(params_filepath)\n",
    "        self.schema = read_yaml(schema_filepath)\n",
    "\n",
    "        create_directories([self.config.artifacts_root])\n",
    "\n",
    "    def get_data_transformation_config(self) -> DataTransformationConfig:\n",
    "        config=self.config.data_transformation\n",
    "        create_directories([config.root_dir])\n",
    "        data_tranformation_config=DataTransformationConfig(\n",
    "            root_dir=config.root_dir,\n",
    "            data_path=config.data_path\n",
    "        )\n",
    "        return data_tranformation_config"
   ]
  },
  {
   "cell_type": "code",
   "execution_count": 6,
   "metadata": {},
   "outputs": [],
   "source": [
    "import pandas as pd\n",
    "import numpy as np\n",
    "from sklearn.model_selection import train_test_split\n",
    "from sklearn.preprocessing import StandardScaler\n",
    "from sklearn.feature_selection import SelectFromModel\n",
    "from imblearn.over_sampling import SMOTE\n",
    "import joblib\n",
    "import os\n",
    "from src import logger"
   ]
  },
  {
   "cell_type": "code",
   "execution_count": 7,
   "metadata": {},
   "outputs": [],
   "source": [
    "class DataTransformation:\n",
    "    def __init__(self, config: DataTransformationConfig):\n",
    "        self.config = config\n",
    "    \n",
    "    def remove_highly_correlated_features(self, df, threshold=0.95):\n",
    "        corr_matrix = df.corr().abs()\n",
    "        upper = corr_matrix.where(np.triu(np.ones(corr_matrix.shape), k=1).astype(bool))\n",
    "        to_drop = [column for column in upper.columns if any(upper[column] > threshold)]\n",
    "        return df.drop(columns=to_drop)\n",
    "    \n",
    "    def train_test_spliting(self):\n",
    "        data = pd.read_csv(self.config.data_path)\n",
    "        X = data.drop(['account_number', 'bad_flag'], axis=1)\n",
    "        y = data['bad_flag']\n",
    "        missing_pct = (X.isnull().sum() / len(X)) * 100\n",
    "        cols_to_drop = missing_pct[missing_pct > 70].index\n",
    "        X_cleaned = X.drop(columns=cols_to_drop)\n",
    "        numeric_cols = X_cleaned.select_dtypes(include=['float64', 'int64']).columns\n",
    "        X_cleaned[numeric_cols] = X_cleaned[numeric_cols].fillna(X_cleaned[numeric_cols].median())\n",
    "        X_cleaned = self.remove_highly_correlated_features(X_cleaned, threshold=0.95)\n",
    "        scaler = StandardScaler()\n",
    "        X_scaled = scaler.fit_transform(X_cleaned)\n",
    "        X_scaled = pd.DataFrame(X_scaled, columns=X_cleaned.columns)\n",
    "        final_df = pd.concat([X_scaled, y], axis=1)\n",
    "        train, test = train_test_split(final_df, test_size=0.25, random_state=42, stratify=y)\n",
    "        \n",
    "        train.to_csv(os.path.join(self.config.root_dir, \"train.csv\"), index=False)\n",
    "        test.to_csv(os.path.join(self.config.root_dir, \"test.csv\"), index=False)\n",
    "\n",
    "        joblib.dump(scaler, os.path.join(self.config.root_dir, \"scaler.joblib\"))\n",
    "        \n",
    "        logger.info(\"Completed data transformation\")\n",
    "        logger.info(f\"Training set shape: {train.shape}\")\n",
    "        logger.info(f\"Test set shape: {test.shape}\")\n",
    "        \n",
    "        return train, test"
   ]
  },
  {
   "cell_type": "code",
   "execution_count": 8,
   "metadata": {},
   "outputs": [
    {
     "name": "stdout",
     "output_type": "stream",
     "text": [
      "[2025-01-13 15:01:59,769: INFO: common: yaml file: config/config.yaml loaded successfully]\n",
      "[2025-01-13 15:01:59,893: INFO: common: yaml file: params.yaml loaded successfully]\n",
      "[2025-01-13 15:02:00,132: INFO: common: yaml file: schema.yaml loaded successfully]\n",
      "[2025-01-13 15:02:00,135: INFO: common: created directory at: artifacts]\n",
      "[2025-01-13 15:02:00,138: INFO: common: created directory at: artifacts/data_transformation]\n",
      "[2025-01-13 15:11:15,271: INFO: 3626637720: Completed data transformation]\n",
      "[2025-01-13 15:11:16,261: INFO: 3626637720: Training set shape: (72604, 1017)]\n",
      "[2025-01-13 15:11:16,361: INFO: 3626637720: Test set shape: (24202, 1017)]\n"
     ]
    }
   ],
   "source": [
    "try:\n",
    "    config = ConfigurationManager()\n",
    "    data_transformation_config = config.get_data_transformation_config()\n",
    "    data_transformation = DataTransformation(config=data_transformation_config)\n",
    "    data_transformation.train_test_spliting()\n",
    "except Exception as e:\n",
    "    raise e"
   ]
  },
  {
   "cell_type": "code",
   "execution_count": null,
   "metadata": {},
   "outputs": [],
   "source": []
  }
 ],
 "metadata": {
  "kernelspec": {
   "display_name": "venv",
   "language": "python",
   "name": "python3"
  },
  "language_info": {
   "codemirror_mode": {
    "name": "ipython",
    "version": 3
   },
   "file_extension": ".py",
   "mimetype": "text/x-python",
   "name": "python",
   "nbconvert_exporter": "python",
   "pygments_lexer": "ipython3",
   "version": "3.10.12"
  }
 },
 "nbformat": 4,
 "nbformat_minor": 2
}
